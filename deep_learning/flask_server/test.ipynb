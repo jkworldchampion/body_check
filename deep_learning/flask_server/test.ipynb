{
 "cells": [
  {
   "cell_type": "markdown",
   "metadata": {},
   "source": [
    "This is the test & download space for python3.9.6"
   ]
  },
  {
   "cell_type": "code",
   "execution_count": 2,
   "metadata": {},
   "outputs": [
    {
     "name": "stdout",
     "output_type": "stream",
     "text": [
      "python version:  3.9.6 (default, Mar 29 2024, 10:51:09) \n",
      "[Clang 15.0.0 (clang-1500.3.9.4)]\n"
     ]
    }
   ],
   "source": [
    "import sys\n",
    "print(\"python version: \", sys.version)"
   ]
  },
  {
   "cell_type": "code",
   "execution_count": 5,
   "metadata": {},
   "outputs": [
    {
     "name": "stdout",
     "output_type": "stream",
     "text": [
      "Defaulting to user installation because normal site-packages is not writeable\n",
      "Collecting firebase-admin\n",
      "  Downloading firebase_admin-6.6.0-py3-none-any.whl (127 kB)\n",
      "\u001b[K     |████████████████████████████████| 127 kB 5.8 MB/s eta 0:00:01\n",
      "\u001b[?25hCollecting google-api-core[grpc]<3.0.0dev,>=1.22.1\n",
      "  Downloading google_api_core-2.23.0-py3-none-any.whl (156 kB)\n",
      "\u001b[K     |████████████████████████████████| 156 kB 6.8 MB/s eta 0:00:01\n",
      "\u001b[?25hCollecting google-cloud-storage>=1.37.1\n",
      "  Downloading google_cloud_storage-2.18.2-py2.py3-none-any.whl (130 kB)\n",
      "\u001b[K     |████████████████████████████████| 130 kB 9.9 MB/s eta 0:00:01\n",
      "\u001b[?25hCollecting google-api-python-client>=1.7.8\n",
      "  Downloading google_api_python_client-2.154.0-py2.py3-none-any.whl (12.6 MB)\n",
      "\u001b[K     |████████████████████████████████| 12.6 MB 623 kB/s eta 0:00:01\n",
      "\u001b[?25hCollecting google-cloud-firestore>=2.19.0\n",
      "  Downloading google_cloud_firestore-2.19.0-py2.py3-none-any.whl (336 kB)\n",
      "\u001b[K     |████████████████████████████████| 336 kB 2.6 MB/s eta 0:00:01\n",
      "\u001b[?25hCollecting cachecontrol>=0.12.14\n",
      "  Downloading cachecontrol-0.14.1-py3-none-any.whl (22 kB)\n",
      "Collecting pyjwt[crypto]>=2.5.0\n",
      "  Downloading PyJWT-2.10.0-py3-none-any.whl (23 kB)\n",
      "Collecting msgpack<2.0.0,>=0.5.2\n",
      "  Downloading msgpack-1.1.0-cp39-cp39-macosx_11_0_arm64.whl (81 kB)\n",
      "\u001b[K     |████████████████████████████████| 81 kB 2.1 MB/s eta 0:00:01\n",
      "\u001b[?25hRequirement already satisfied: requests>=2.16.0 in /Users/juhwan/Library/Python/3.9/lib/python/site-packages (from cachecontrol>=0.12.14->firebase-admin) (2.32.3)\n",
      "Collecting proto-plus<2.0.0dev,>=1.22.3\n",
      "  Downloading proto_plus-1.25.0-py3-none-any.whl (50 kB)\n",
      "\u001b[K     |████████████████████████████████| 50 kB 5.5 MB/s eta 0:00:01\n",
      "\u001b[?25hCollecting googleapis-common-protos<2.0.dev0,>=1.56.2\n",
      "  Downloading googleapis_common_protos-1.66.0-py2.py3-none-any.whl (221 kB)\n",
      "\u001b[K     |████████████████████████████████| 221 kB 7.3 MB/s eta 0:00:01\n",
      "\u001b[?25hRequirement already satisfied: google-auth<3.0.dev0,>=2.14.1 in /Users/juhwan/Library/Python/3.9/lib/python/site-packages (from google-api-core[grpc]<3.0.0dev,>=1.22.1->firebase-admin) (2.36.0)\n",
      "Requirement already satisfied: protobuf!=3.20.0,!=3.20.1,!=4.21.0,!=4.21.1,!=4.21.2,!=4.21.3,!=4.21.4,!=4.21.5,<6.0.0.dev0,>=3.19.5 in /Users/juhwan/Library/Python/3.9/lib/python/site-packages (from google-api-core[grpc]<3.0.0dev,>=1.22.1->firebase-admin) (4.25.5)\n",
      "Collecting grpcio-status<2.0.dev0,>=1.33.2\n",
      "  Downloading grpcio_status-1.68.0-py3-none-any.whl (14 kB)\n",
      "Requirement already satisfied: grpcio<2.0dev,>=1.33.2 in /Users/juhwan/Library/Python/3.9/lib/python/site-packages (from google-api-core[grpc]<3.0.0dev,>=1.22.1->firebase-admin) (1.68.0)\n",
      "Collecting google-auth-httplib2<1.0.0,>=0.2.0\n",
      "  Downloading google_auth_httplib2-0.2.0-py2.py3-none-any.whl (9.3 kB)\n",
      "Collecting uritemplate<5,>=3.0.1\n",
      "  Downloading uritemplate-4.1.1-py2.py3-none-any.whl (10 kB)\n",
      "Collecting httplib2<1.dev0,>=0.19.0\n",
      "  Downloading httplib2-0.22.0-py3-none-any.whl (96 kB)\n",
      "\u001b[K     |████████████████████████████████| 96 kB 4.6 MB/s eta 0:00:01\n",
      "\u001b[?25hRequirement already satisfied: rsa<5,>=3.1.4 in /Users/juhwan/Library/Python/3.9/lib/python/site-packages (from google-auth<3.0.dev0,>=2.14.1->google-api-core[grpc]<3.0.0dev,>=1.22.1->firebase-admin) (4.9)\n",
      "Requirement already satisfied: pyasn1-modules>=0.2.1 in /Users/juhwan/Library/Python/3.9/lib/python/site-packages (from google-auth<3.0.dev0,>=2.14.1->google-api-core[grpc]<3.0.0dev,>=1.22.1->firebase-admin) (0.4.1)\n",
      "Requirement already satisfied: cachetools<6.0,>=2.0.0 in /Users/juhwan/Library/Python/3.9/lib/python/site-packages (from google-auth<3.0.dev0,>=2.14.1->google-api-core[grpc]<3.0.0dev,>=1.22.1->firebase-admin) (5.5.0)\n",
      "Collecting google-cloud-core<3.0.0dev,>=1.4.1\n",
      "  Downloading google_cloud_core-2.4.1-py2.py3-none-any.whl (29 kB)\n",
      "Collecting google-resumable-media>=2.7.2\n",
      "  Downloading google_resumable_media-2.7.2-py2.py3-none-any.whl (81 kB)\n",
      "\u001b[K     |████████████████████████████████| 81 kB 7.5 MB/s eta 0:00:011\n",
      "\u001b[?25hCollecting google-crc32c<2.0dev,>=1.0\n",
      "  Downloading google_crc32c-1.6.0-cp39-cp39-macosx_12_0_arm64.whl (30 kB)\n",
      "Collecting protobuf!=3.20.0,!=3.20.1,!=4.21.0,!=4.21.1,!=4.21.2,!=4.21.3,!=4.21.4,!=4.21.5,<6.0.0.dev0,>=3.19.5\n",
      "  Downloading protobuf-5.28.3-cp38-abi3-macosx_10_9_universal2.whl (414 kB)\n",
      "\u001b[K     |████████████████████████████████| 414 kB 10.8 MB/s eta 0:00:01\n",
      "\u001b[?25hRequirement already satisfied: pyparsing!=3.0.0,!=3.0.1,!=3.0.2,!=3.0.3,<4,>=2.4.2 in /Users/juhwan/Library/Python/3.9/lib/python/site-packages (from httplib2<1.dev0,>=0.19.0->google-api-python-client>=1.7.8->firebase-admin) (3.2.0)\n",
      "Requirement already satisfied: pyasn1<0.7.0,>=0.4.6 in /Users/juhwan/Library/Python/3.9/lib/python/site-packages (from pyasn1-modules>=0.2.1->google-auth<3.0.dev0,>=2.14.1->google-api-core[grpc]<3.0.0dev,>=1.22.1->firebase-admin) (0.6.1)\n",
      "Collecting cryptography>=3.4.0\n",
      "  Downloading cryptography-43.0.3-cp39-abi3-macosx_10_9_universal2.whl (6.2 MB)\n",
      "\u001b[K     |████████████████████████████████| 6.2 MB 601 kB/s eta 0:00:01\n",
      "\u001b[?25hCollecting cffi>=1.12\n",
      "  Downloading cffi-1.17.1-cp39-cp39-macosx_11_0_arm64.whl (178 kB)\n",
      "\u001b[K     |████████████████████████████████| 178 kB 9.7 MB/s eta 0:00:01\n",
      "\u001b[?25hCollecting pycparser\n",
      "  Downloading pycparser-2.22-py3-none-any.whl (117 kB)\n",
      "\u001b[K     |████████████████████████████████| 117 kB 12.2 MB/s eta 0:00:01\n",
      "\u001b[?25hRequirement already satisfied: urllib3<3,>=1.21.1 in /Users/juhwan/Library/Python/3.9/lib/python/site-packages (from requests>=2.16.0->cachecontrol>=0.12.14->firebase-admin) (2.2.3)\n",
      "Requirement already satisfied: certifi>=2017.4.17 in /Users/juhwan/Library/Python/3.9/lib/python/site-packages (from requests>=2.16.0->cachecontrol>=0.12.14->firebase-admin) (2024.8.30)\n",
      "Requirement already satisfied: idna<4,>=2.5 in /Users/juhwan/Library/Python/3.9/lib/python/site-packages (from requests>=2.16.0->cachecontrol>=0.12.14->firebase-admin) (3.10)\n",
      "Requirement already satisfied: charset-normalizer<4,>=2 in /Users/juhwan/Library/Python/3.9/lib/python/site-packages (from requests>=2.16.0->cachecontrol>=0.12.14->firebase-admin) (3.4.0)\n",
      "Installing collected packages: protobuf, pycparser, proto-plus, googleapis-common-protos, httplib2, grpcio-status, google-crc32c, google-api-core, cffi, uritemplate, pyjwt, msgpack, google-resumable-media, google-cloud-core, google-auth-httplib2, cryptography, google-cloud-storage, google-cloud-firestore, google-api-python-client, cachecontrol, firebase-admin\n",
      "  Attempting uninstall: protobuf\n",
      "    Found existing installation: protobuf 4.25.5\n",
      "    Uninstalling protobuf-4.25.5:\n",
      "      Successfully uninstalled protobuf-4.25.5\n",
      "\u001b[31mERROR: pip's dependency resolver does not currently take into account all the packages that are installed. This behaviour is the source of the following dependency conflicts.\n",
      "tensorflow-macos 2.13.0 requires protobuf!=4.21.0,!=4.21.1,!=4.21.2,!=4.21.3,!=4.21.4,!=4.21.5,<5.0.0dev,>=3.20.3, but you have protobuf 5.28.3 which is incompatible.\u001b[0m\n",
      "Successfully installed cachecontrol-0.14.1 cffi-1.17.1 cryptography-43.0.3 firebase-admin-6.6.0 google-api-core-2.23.0 google-api-python-client-2.154.0 google-auth-httplib2-0.2.0 google-cloud-core-2.4.1 google-cloud-firestore-2.19.0 google-cloud-storage-2.18.2 google-crc32c-1.6.0 google-resumable-media-2.7.2 googleapis-common-protos-1.66.0 grpcio-status-1.68.0 httplib2-0.22.0 msgpack-1.1.0 proto-plus-1.25.0 protobuf-5.28.3 pycparser-2.22 pyjwt-2.10.0 uritemplate-4.1.1\n",
      "\u001b[33mWARNING: You are using pip version 21.2.4; however, version 24.3.1 is available.\n",
      "You should consider upgrading via the '/Applications/Xcode.app/Contents/Developer/usr/bin/python3 -m pip install --upgrade pip' command.\u001b[0m\n",
      "Note: you may need to restart the kernel to use updated packages.\n"
     ]
    }
   ],
   "source": [
    "pip install firebase-admin"
   ]
  }
 ],
 "metadata": {
  "kernelspec": {
   "display_name": "Python 3",
   "language": "python",
   "name": "python3"
  },
  "language_info": {
   "codemirror_mode": {
    "name": "ipython",
    "version": 3
   },
   "file_extension": ".py",
   "mimetype": "text/x-python",
   "name": "python",
   "nbconvert_exporter": "python",
   "pygments_lexer": "ipython3",
   "version": "3.8.10"
  }
 },
 "nbformat": 4,
 "nbformat_minor": 2
}
